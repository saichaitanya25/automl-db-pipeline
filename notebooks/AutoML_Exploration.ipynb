{
 "cells": [
  {
   "cell_type": "markdown",
   "id": "f281b398",
   "metadata": {},
   "source": [
    "# 🧪 AutoML Exploration in Databricks\n",
    "This notebook demonstrates how to explore a dataset and run AutoML inside Databricks using Python."
   ]
  },
  {
   "cell_type": "code",
   "execution_count": null,
   "id": "71ff996a",
   "metadata": {},
   "outputs": [],
   "source": [
    "# Import necessary libraries\n",
    "import pandas as pd\n",
    "import numpy as np\n",
    "import matplotlib.pyplot as plt\n",
    "import seaborn as sns\n",
    "\n",
    "# Spark session is usually available by default in Databricks as 'spark'\n",
    "df = spark.read.format(\"delta\").load(\"/mnt/delta/training_data\")\n",
    "df.show(5)"
   ]
  },
  {
   "cell_type": "code",
   "execution_count": null,
   "id": "0a3a4f1f",
   "metadata": {},
   "outputs": [],
   "source": [
    "# Convert Spark DataFrame to Pandas for visualization (if dataset is small)\n",
    "pdf = df.toPandas()\n",
    "\n",
    "# Basic EDA\n",
    "pdf.describe()"
   ]
  },
  {
   "cell_type": "code",
   "execution_count": null,
   "id": "b2639846",
   "metadata": {},
   "outputs": [],
   "source": [
    "# Visualizing correlations\n",
    "plt.figure(figsize=(10, 6))\n",
    "sns.heatmap(pdf.corr(numeric_only=True), annot=True, cmap='coolwarm')\n",
    "plt.title(\"Feature Correlation Heatmap\")\n",
    "plt.show()"
   ]
  },
  {
   "cell_type": "markdown",
   "id": "f19375be",
   "metadata": {},
   "source": [
    "## 🚀 Launching AutoML"
   ]
  },
  {
   "cell_type": "code",
   "execution_count": null,
   "id": "3dc78317",
   "metadata": {},
   "outputs": [],
   "source": [
    "import databricks.automl\n",
    "\n",
    "# Launch AutoML\n",
    "summary = databricks.automl.classify(df, target_col='target', timeout_minutes=15)\n",
    "\n",
    "# View the best trial\n",
    "summary.best_trial"
   ]
  }
 ],
 "metadata": {},
 "nbformat": 4,
 "nbformat_minor": 5
}
